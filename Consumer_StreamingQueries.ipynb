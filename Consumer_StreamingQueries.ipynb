{
 "cells": [
  {
   "cell_type": "code",
   "execution_count": 1,
   "id": "992602f9",
   "metadata": {},
   "outputs": [],
   "source": [
    "from pyspark.sql import SparkSession\n",
    "from pyspark.sql.functions import col, regexp_replace\n",
    "scala_version = '2.13'\n",
    "spark_version = '3.5.5'\n",
    "packages = [ f'org.apache.spark:spark-sql-kafka-0-10_{scala_version}:{spark_version}','org.apache.kafka:kafka-clients:2.10.0']\n",
    "spark = SparkSession.builder.master('local')\\\n",
    ".appName(\"kafka-example\").config(\"spark.jars.packages\", \",\".join(packages))\\\n",
    ".config(\"spark.memory.offHeap.enabled\",\"true\")\\\n",
    ".config(\"spark.memory.offHeap.size\",\"10g\")\\\n",
    ".config(\"spark.driver.memory\", \"16g\")\\\n",
    ".getOrCreate()"
   ]
  },
  {
   "cell_type": "code",
   "execution_count": 2,
   "id": "02cf25e0",
   "metadata": {},
   "outputs": [],
   "source": [
    "topic_name = 'StreetviewImages'\n",
    "kafka_server = 'localhost:9092'\n",
    "\n",
    "streamRawDf = spark.readStream.format(\"kafka\")\\\n",
    "    .option(\"kafka.bootstrap.servers\", kafka_server)\\\n",
    "    .option(\"subscribe\", topic_name)\\\n",
    "    .load()\n",
    "\n",
    "streamDF = streamRawDf.select(col('topic'),col('offset'),col('value').cast('string'))\n"
   ]
  },
  {
   "cell_type": "code",
   "execution_count": 3,
   "id": "3afda652",
   "metadata": {},
   "outputs": [],
   "source": [
    "stream_writer0 = (streamDF.writeStream.queryName(\"CameraStreaming0\").trigger(processingTime=\"5 seconds\").outputMode(\"append\").format(\"memory\"))\n",
    "\n",
    "query0 = stream_writer0.start()   "
   ]
  },
  {
   "cell_type": "code",
   "execution_count": 4,
   "id": "c6a9f88a",
   "metadata": {},
   "outputs": [
    {
     "name": "stdout",
     "output_type": "stream",
     "text": [
      "Showing live view refreshed every 5 seconds\n",
      "Seconds passed: 30\n"
     ]
    },
    {
     "data": {
      "text/html": [
       "<div>\n",
       "<style scoped>\n",
       "    .dataframe tbody tr th:only-of-type {\n",
       "        vertical-align: middle;\n",
       "    }\n",
       "\n",
       "    .dataframe tbody tr th {\n",
       "        vertical-align: top;\n",
       "    }\n",
       "\n",
       "    .dataframe thead th {\n",
       "        text-align: right;\n",
       "    }\n",
       "</style>\n",
       "<table border=\"1\" class=\"dataframe\">\n",
       "  <thead>\n",
       "    <tr style=\"text-align: right;\">\n",
       "      <th></th>\n",
       "      <th>topic</th>\n",
       "      <th>offset</th>\n",
       "      <th>value</th>\n",
       "    </tr>\n",
       "  </thead>\n",
       "  <tbody>\n",
       "    <tr>\n",
       "      <th>0</th>\n",
       "      <td>StreetviewImages</td>\n",
       "      <td>4</td>\n",
       "      <td>{\"image_id\": \"10.7679053_106.6677161.jpg\", \"la...</td>\n",
       "    </tr>\n",
       "    <tr>\n",
       "      <th>1</th>\n",
       "      <td>StreetviewImages</td>\n",
       "      <td>5</td>\n",
       "      <td>{\"image_id\": \"10.7679184_106.6677675.jpg\", \"la...</td>\n",
       "    </tr>\n",
       "    <tr>\n",
       "      <th>2</th>\n",
       "      <td>StreetviewImages</td>\n",
       "      <td>6</td>\n",
       "      <td>{\"image_id\": \"10.7679274_106.6678216.jpg\", \"la...</td>\n",
       "    </tr>\n",
       "    <tr>\n",
       "      <th>3</th>\n",
       "      <td>StreetviewImages</td>\n",
       "      <td>7</td>\n",
       "      <td>{\"image_id\": \"10.7680118_106.6678825.jpg\", \"la...</td>\n",
       "    </tr>\n",
       "  </tbody>\n",
       "</table>\n",
       "</div>"
      ],
      "text/plain": [
       "              topic  offset                                              value\n",
       "0  StreetviewImages       4  {\"image_id\": \"10.7679053_106.6677161.jpg\", \"la...\n",
       "1  StreetviewImages       5  {\"image_id\": \"10.7679184_106.6677675.jpg\", \"la...\n",
       "2  StreetviewImages       6  {\"image_id\": \"10.7679274_106.6678216.jpg\", \"la...\n",
       "3  StreetviewImages       7  {\"image_id\": \"10.7680118_106.6678825.jpg\", \"la..."
      ]
     },
     "metadata": {},
     "output_type": "display_data"
    },
    {
     "name": "stdout",
     "output_type": "stream",
     "text": [
      "break\n",
      "Live view ended...\n"
     ]
    }
   ],
   "source": [
    "from time import sleep\n",
    "from IPython.display import display, clear_output\n",
    "for x in range(0, 100):\n",
    "    try:\n",
    "        print(\"Showing live view refreshed every 5 seconds\")\n",
    "        print(f\"Seconds passed: {x*5}\")\n",
    "        result0 = spark.sql(f\"SELECT * FROM {query0.name}\")\n",
    "\n",
    "        display(result0.toPandas())\n",
    "\n",
    "        sleep(3)\n",
    "        clear_output(wait=True)\n",
    "    except KeyboardInterrupt:\n",
    "        print(\"break\")\n",
    "        break\n",
    "print(\"Live view ended...\")\n"
   ]
  }
 ],
 "metadata": {
  "kernelspec": {
   "display_name": "UIT_model",
   "language": "python",
   "name": "python3"
  },
  "language_info": {
   "codemirror_mode": {
    "name": "ipython",
    "version": 3
   },
   "file_extension": ".py",
   "mimetype": "text/x-python",
   "name": "python",
   "nbconvert_exporter": "python",
   "pygments_lexer": "ipython3",
   "version": "3.10.13"
  }
 },
 "nbformat": 4,
 "nbformat_minor": 5
}
